{
 "cells": [
  {
   "cell_type": "code",
   "execution_count": 45,
   "metadata": {},
   "outputs": [],
   "source": [
    "import json\n",
    "import pandas as pd\n",
    "import numpy as np\n",
    "from tqdm import tqdm_notebook as tqdm\n",
    "import os"
   ]
  },
  {
   "cell_type": "code",
   "execution_count": 46,
   "metadata": {},
   "outputs": [],
   "source": [
    "dir_bb = 'data/years/'\n",
    "filelist = os.listdir(dir_bb)\n",
    "master_df = pd.DataFrame()"
   ]
  },
  {
   "cell_type": "code",
   "execution_count": 47,
   "metadata": {},
   "outputs": [
    {
     "data": {
      "application/vnd.jupyter.widget-view+json": {
       "model_id": "61f768b1bba3468fa0a18446148deb4a",
       "version_major": 2,
       "version_minor": 0
      },
      "text/plain": [
       "HBox(children=(IntProgress(value=0, max=66), HTML(value='')))"
      ]
     },
     "metadata": {},
     "output_type": "display_data"
    },
    {
     "name": "stdout",
     "output_type": "stream",
     "text": [
      "\n"
     ]
    },
    {
     "data": {
      "text/html": [
       "<div>\n",
       "<style scoped>\n",
       "    .dataframe tbody tr th:only-of-type {\n",
       "        vertical-align: middle;\n",
       "    }\n",
       "\n",
       "    .dataframe tbody tr th {\n",
       "        vertical-align: top;\n",
       "    }\n",
       "\n",
       "    .dataframe thead th {\n",
       "        text-align: right;\n",
       "    }\n",
       "</style>\n",
       "<table border=\"1\" class=\"dataframe\">\n",
       "  <thead>\n",
       "    <tr style=\"text-align: right;\">\n",
       "      <th></th>\n",
       "      <th>lyrics</th>\n",
       "      <th>tags</th>\n",
       "      <th>num_syllables</th>\n",
       "      <th>pos</th>\n",
       "      <th>year</th>\n",
       "      <th>fog_index</th>\n",
       "      <th>flesch_index</th>\n",
       "      <th>num_words</th>\n",
       "      <th>num_lines</th>\n",
       "      <th>sentiment</th>\n",
       "      <th>title</th>\n",
       "      <th>f_k_grade</th>\n",
       "      <th>artist</th>\n",
       "      <th>difficult_words</th>\n",
       "      <th>num_dupes</th>\n",
       "      <th>neg</th>\n",
       "    </tr>\n",
       "  </thead>\n",
       "  <tbody>\n",
       "    <tr>\n",
       "      <td>0</td>\n",
       "      <td>Mona Lisa, Mona Lisa, men have named you\\nYou'...</td>\n",
       "      <td>[american, death by lung cancer, easy listenin...</td>\n",
       "      <td>189.0</td>\n",
       "      <td>0.199</td>\n",
       "      <td>1950</td>\n",
       "      <td>5.2</td>\n",
       "      <td>88.74</td>\n",
       "      <td>145</td>\n",
       "      <td>17</td>\n",
       "      <td>{'neg': 0.155, 'neu': 0.646, 'pos': 0.199, 'co...</td>\n",
       "      <td>Mona Lisa</td>\n",
       "      <td>2.9</td>\n",
       "      <td>Nat King Cole</td>\n",
       "      <td>13</td>\n",
       "      <td>10</td>\n",
       "      <td>0.155</td>\n",
       "    </tr>\n",
       "    <tr>\n",
       "      <td>1</td>\n",
       "      <td>I wanna be Loved\\nBy Andrews Sisters\\n\\nOooo-o...</td>\n",
       "      <td>[andrews sisters]</td>\n",
       "      <td>270.9</td>\n",
       "      <td>0.224</td>\n",
       "      <td>1950</td>\n",
       "      <td>4.4</td>\n",
       "      <td>82.31</td>\n",
       "      <td>189</td>\n",
       "      <td>31</td>\n",
       "      <td>{'neg': 0.036, 'neu': 0.74, 'pos': 0.224, 'com...</td>\n",
       "      <td>I Wanna Be Loved</td>\n",
       "      <td>3.3</td>\n",
       "      <td>Andrews Sisters</td>\n",
       "      <td>40</td>\n",
       "      <td>32</td>\n",
       "      <td>0.036</td>\n",
       "    </tr>\n",
       "    <tr>\n",
       "      <td>2</td>\n",
       "      <td>I was dancing with my darling to the Tennessee...</td>\n",
       "      <td>[country, pop]</td>\n",
       "      <td>174.6</td>\n",
       "      <td>0.351</td>\n",
       "      <td>1950</td>\n",
       "      <td>5.2</td>\n",
       "      <td>88.74</td>\n",
       "      <td>138</td>\n",
       "      <td>16</td>\n",
       "      <td>{'neg': 0.053, 'neu': 0.596, 'pos': 0.351, 'co...</td>\n",
       "      <td>Tennessee Waltz</td>\n",
       "      <td>2.9</td>\n",
       "      <td>Patti Page</td>\n",
       "      <td>5</td>\n",
       "      <td>10</td>\n",
       "      <td>0.053</td>\n",
       "    </tr>\n",
       "    <tr>\n",
       "      <td>3</td>\n",
       "      <td>Each time I hold someone new\\nMy arms grow col...</td>\n",
       "      <td>[death by liver failure, spiritual]</td>\n",
       "      <td>135.9</td>\n",
       "      <td>0.231</td>\n",
       "      <td>1950</td>\n",
       "      <td>4.4</td>\n",
       "      <td>99.23</td>\n",
       "      <td>117</td>\n",
       "      <td>18</td>\n",
       "      <td>{'neg': 0.167, 'neu': 0.602, 'pos': 0.231, 'co...</td>\n",
       "      <td>I'll Never Be Free</td>\n",
       "      <td>0.9</td>\n",
       "      <td>Tennessee Ernie Ford</td>\n",
       "      <td>10</td>\n",
       "      <td>3</td>\n",
       "      <td>0.167</td>\n",
       "    </tr>\n",
       "    <tr>\n",
       "      <td>4</td>\n",
       "      <td>Unfortunately, we are not licensed to display ...</td>\n",
       "      <td>[country, pop]</td>\n",
       "      <td>46.8</td>\n",
       "      <td>0.079</td>\n",
       "      <td>1950</td>\n",
       "      <td>6.0</td>\n",
       "      <td>69.79</td>\n",
       "      <td>32</td>\n",
       "      <td>3</td>\n",
       "      <td>{'neg': 0.07, 'neu': 0.85, 'pos': 0.079, 'comp...</td>\n",
       "      <td>All My Love</td>\n",
       "      <td>6.0</td>\n",
       "      <td>Patti Page</td>\n",
       "      <td>9</td>\n",
       "      <td>0</td>\n",
       "      <td>0.070</td>\n",
       "    </tr>\n",
       "  </tbody>\n",
       "</table>\n",
       "</div>"
      ],
      "text/plain": [
       "                                              lyrics  \\\n",
       "0  Mona Lisa, Mona Lisa, men have named you\\nYou'...   \n",
       "1  I wanna be Loved\\nBy Andrews Sisters\\n\\nOooo-o...   \n",
       "2  I was dancing with my darling to the Tennessee...   \n",
       "3  Each time I hold someone new\\nMy arms grow col...   \n",
       "4  Unfortunately, we are not licensed to display ...   \n",
       "\n",
       "                                                tags  num_syllables    pos  \\\n",
       "0  [american, death by lung cancer, easy listenin...          189.0  0.199   \n",
       "1                                  [andrews sisters]          270.9  0.224   \n",
       "2                                     [country, pop]          174.6  0.351   \n",
       "3                [death by liver failure, spiritual]          135.9  0.231   \n",
       "4                                     [country, pop]           46.8  0.079   \n",
       "\n",
       "   year  fog_index  flesch_index  num_words  num_lines  \\\n",
       "0  1950        5.2         88.74        145         17   \n",
       "1  1950        4.4         82.31        189         31   \n",
       "2  1950        5.2         88.74        138         16   \n",
       "3  1950        4.4         99.23        117         18   \n",
       "4  1950        6.0         69.79         32          3   \n",
       "\n",
       "                                           sentiment               title  \\\n",
       "0  {'neg': 0.155, 'neu': 0.646, 'pos': 0.199, 'co...           Mona Lisa   \n",
       "1  {'neg': 0.036, 'neu': 0.74, 'pos': 0.224, 'com...    I Wanna Be Loved   \n",
       "2  {'neg': 0.053, 'neu': 0.596, 'pos': 0.351, 'co...     Tennessee Waltz   \n",
       "3  {'neg': 0.167, 'neu': 0.602, 'pos': 0.231, 'co...  I'll Never Be Free   \n",
       "4  {'neg': 0.07, 'neu': 0.85, 'pos': 0.079, 'comp...         All My Love   \n",
       "\n",
       "   f_k_grade                artist  difficult_words  num_dupes    neg  \n",
       "0        2.9         Nat King Cole               13         10  0.155  \n",
       "1        3.3       Andrews Sisters               40         32  0.036  \n",
       "2        2.9            Patti Page                5         10  0.053  \n",
       "3        0.9  Tennessee Ernie Ford               10          3  0.167  \n",
       "4        6.0            Patti Page                9          0  0.070  "
      ]
     },
     "execution_count": 47,
     "metadata": {},
     "output_type": "execute_result"
    }
   ],
   "source": [
    "for year in tqdm(filelist):\n",
    "    path = dir_bb + year\n",
    "    with open(path, 'r', encoding='cp850', errors = 'ignore') as f:\n",
    "        j = json.load(f)\n",
    "        temp_df = pd.DataFrame(j)\n",
    "        temp_df['pos'] = temp_df['sentiment'].apply(lambda x : x['pos'])\n",
    "        temp_df['neg'] = temp_df['sentiment'].apply(lambda x : x['neg'])\n",
    "        master_df = pd.concat([master_df,temp_df], sort=False)\n",
    "        \n",
    "master_df.head()"
   ]
  },
  {
   "cell_type": "code",
   "execution_count": 48,
   "metadata": {},
   "outputs": [],
   "source": [
    "cleaned_df = master_df.drop(['flesch_index','f_k_grade','difficult_words','fog_index','num_dupes','num_lines','num_syllables','num_words','tags'],\n",
    "               axis=1)\n"
   ]
  },
  {
   "cell_type": "code",
   "execution_count": 59,
   "metadata": {},
   "outputs": [],
   "source": [
    "final_df = cleaned_df[['artist','title','year','pos','neg','lyrics']]\n"
   ]
  },
  {
   "cell_type": "code",
   "execution_count": 65,
   "metadata": {},
   "outputs": [],
   "source": [
    "final_df.to_csv(index=False, path_or_buf = 'song_sentiment.csv')"
   ]
  }
 ],
 "metadata": {
  "kernelspec": {
   "display_name": "Python 3",
   "language": "python",
   "name": "python3"
  },
  "language_info": {
   "codemirror_mode": {
    "name": "ipython",
    "version": 3
   },
   "file_extension": ".py",
   "mimetype": "text/x-python",
   "name": "python",
   "nbconvert_exporter": "python",
   "pygments_lexer": "ipython3",
   "version": "3.7.4"
  }
 },
 "nbformat": 4,
 "nbformat_minor": 2
}
