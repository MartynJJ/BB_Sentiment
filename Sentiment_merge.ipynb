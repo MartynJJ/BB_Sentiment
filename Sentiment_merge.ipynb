{
 "cells": [
  {
   "cell_type": "code",
   "execution_count": 2,
   "metadata": {},
   "outputs": [],
   "source": [
    "import json\n",
    "import pandas as pd\n",
    "import numpy as np\n",
    "from tqdm import tqdm_notebook as tqdm\n",
    "from tqdm import trange\n",
    "import os\n",
    "import datetime\n",
    "import time"
   ]
  },
  {
   "cell_type": "code",
   "execution_count": 3,
   "metadata": {},
   "outputs": [],
   "source": [
    "sentiment_file = 'song_sentiment.csv'\n",
    "no1_file = 'weekly_no1s.csv'\n",
    "start_frame = '2005-01-01'\n",
    "# end_frame = '2005-06-01'\n",
    "end_frame = '2015-01-01'"
   ]
  },
  {
   "cell_type": "code",
   "execution_count": 21,
   "metadata": {},
   "outputs": [
    {
     "data": {
      "text/html": [
       "<div>\n",
       "<style scoped>\n",
       "    .dataframe tbody tr th:only-of-type {\n",
       "        vertical-align: middle;\n",
       "    }\n",
       "\n",
       "    .dataframe tbody tr th {\n",
       "        vertical-align: top;\n",
       "    }\n",
       "\n",
       "    .dataframe thead th {\n",
       "        text-align: right;\n",
       "    }\n",
       "</style>\n",
       "<table border=\"1\" class=\"dataframe\">\n",
       "  <thead>\n",
       "    <tr style=\"text-align: right;\">\n",
       "      <th></th>\n",
       "      <th>WeekID</th>\n",
       "      <th>Week Position</th>\n",
       "      <th>Song</th>\n",
       "      <th>Performer</th>\n",
       "      <th>SongID</th>\n",
       "    </tr>\n",
       "  </thead>\n",
       "  <tbody>\n",
       "    <tr>\n",
       "      <td>0</td>\n",
       "      <td>1958-08-02</td>\n",
       "      <td>1</td>\n",
       "      <td>Poor Little Fool</td>\n",
       "      <td>Ricky Nelson</td>\n",
       "      <td>POOR LITTLE FOOLRICKY NELSON</td>\n",
       "    </tr>\n",
       "    <tr>\n",
       "      <td>1</td>\n",
       "      <td>1958-08-09</td>\n",
       "      <td>1</td>\n",
       "      <td>Poor Little Fool</td>\n",
       "      <td>Ricky Nelson</td>\n",
       "      <td>POOR LITTLE FOOLRICKY NELSON</td>\n",
       "    </tr>\n",
       "    <tr>\n",
       "      <td>2</td>\n",
       "      <td>1958-08-16</td>\n",
       "      <td>1</td>\n",
       "      <td>Nel Blu Dipinto Di Blu (Volar├®)</td>\n",
       "      <td>Domenico Modugno</td>\n",
       "      <td>NEL BLU DIPINTO DI BLU (VOLAR├®)DOMENICO MODUGNO</td>\n",
       "    </tr>\n",
       "    <tr>\n",
       "      <td>3</td>\n",
       "      <td>1958-08-23</td>\n",
       "      <td>1</td>\n",
       "      <td>Little Star</td>\n",
       "      <td>The Elegants</td>\n",
       "      <td>LITTLE STARTHE ELEGANTS</td>\n",
       "    </tr>\n",
       "    <tr>\n",
       "      <td>4</td>\n",
       "      <td>1958-08-30</td>\n",
       "      <td>1</td>\n",
       "      <td>Nel Blu Dipinto Di Blu (Volar├®)</td>\n",
       "      <td>Domenico Modugno</td>\n",
       "      <td>NEL BLU DIPINTO DI BLU (VOLAR├®)DOMENICO MODUGNO</td>\n",
       "    </tr>\n",
       "  </tbody>\n",
       "</table>\n",
       "</div>"
      ],
      "text/plain": [
       "       WeekID  Week Position                              Song  \\\n",
       "0  1958-08-02              1                  Poor Little Fool   \n",
       "1  1958-08-09              1                  Poor Little Fool   \n",
       "2  1958-08-16              1  Nel Blu Dipinto Di Blu (Volar├®)   \n",
       "3  1958-08-23              1                       Little Star   \n",
       "4  1958-08-30              1  Nel Blu Dipinto Di Blu (Volar├®)   \n",
       "\n",
       "          Performer                                            SongID  \n",
       "0      Ricky Nelson                      POOR LITTLE FOOLRICKY NELSON  \n",
       "1      Ricky Nelson                      POOR LITTLE FOOLRICKY NELSON  \n",
       "2  Domenico Modugno  NEL BLU DIPINTO DI BLU (VOLAR├®)DOMENICO MODUGNO  \n",
       "3      The Elegants                           LITTLE STARTHE ELEGANTS  \n",
       "4  Domenico Modugno  NEL BLU DIPINTO DI BLU (VOLAR├®)DOMENICO MODUGNO  "
      ]
     },
     "execution_count": 21,
     "metadata": {},
     "output_type": "execute_result"
    }
   ],
   "source": [
    "no1_df = pd.read_csv(no1_file)\n",
    "no1_df['SongID'] = no1_df['SongID'].map(lambda x: str(x).upper())\n",
    "no1_df.head(5)"
   ]
  },
  {
   "cell_type": "code",
   "execution_count": 22,
   "metadata": {},
   "outputs": [
    {
     "data": {
      "text/html": [
       "<div>\n",
       "<style scoped>\n",
       "    .dataframe tbody tr th:only-of-type {\n",
       "        vertical-align: middle;\n",
       "    }\n",
       "\n",
       "    .dataframe tbody tr th {\n",
       "        vertical-align: top;\n",
       "    }\n",
       "\n",
       "    .dataframe thead th {\n",
       "        text-align: right;\n",
       "    }\n",
       "</style>\n",
       "<table border=\"1\" class=\"dataframe\">\n",
       "  <thead>\n",
       "    <tr style=\"text-align: right;\">\n",
       "      <th></th>\n",
       "      <th>artist</th>\n",
       "      <th>title</th>\n",
       "      <th>year</th>\n",
       "      <th>pos</th>\n",
       "      <th>neg</th>\n",
       "      <th>lyrics</th>\n",
       "      <th>SongID</th>\n",
       "    </tr>\n",
       "  </thead>\n",
       "  <tbody>\n",
       "    <tr>\n",
       "      <td>0</td>\n",
       "      <td>Nat King Cole</td>\n",
       "      <td>Mona Lisa</td>\n",
       "      <td>1950</td>\n",
       "      <td>0.199</td>\n",
       "      <td>0.155</td>\n",
       "      <td>Mona Lisa, Mona Lisa, men have named you\\nYou'...</td>\n",
       "      <td>MONA LISANAT KING COLE</td>\n",
       "    </tr>\n",
       "    <tr>\n",
       "      <td>1</td>\n",
       "      <td>Andrews Sisters</td>\n",
       "      <td>I Wanna Be Loved</td>\n",
       "      <td>1950</td>\n",
       "      <td>0.224</td>\n",
       "      <td>0.036</td>\n",
       "      <td>I wanna be Loved\\nBy Andrews Sisters\\n\\nOooo-o...</td>\n",
       "      <td>I WANNA BE LOVEDANDREWS SISTERS</td>\n",
       "    </tr>\n",
       "    <tr>\n",
       "      <td>2</td>\n",
       "      <td>Patti Page</td>\n",
       "      <td>Tennessee Waltz</td>\n",
       "      <td>1950</td>\n",
       "      <td>0.351</td>\n",
       "      <td>0.053</td>\n",
       "      <td>I was dancing with my darling to the Tennessee...</td>\n",
       "      <td>TENNESSEE WALTZPATTI PAGE</td>\n",
       "    </tr>\n",
       "    <tr>\n",
       "      <td>3</td>\n",
       "      <td>Tennessee Ernie Ford</td>\n",
       "      <td>I'll Never Be Free</td>\n",
       "      <td>1950</td>\n",
       "      <td>0.231</td>\n",
       "      <td>0.167</td>\n",
       "      <td>Each time I hold someone new\\nMy arms grow col...</td>\n",
       "      <td>I'LL NEVER BE FREETENNESSEE ERNIE FORD</td>\n",
       "    </tr>\n",
       "    <tr>\n",
       "      <td>4</td>\n",
       "      <td>Patti Page</td>\n",
       "      <td>All My Love</td>\n",
       "      <td>1950</td>\n",
       "      <td>0.079</td>\n",
       "      <td>0.070</td>\n",
       "      <td>Unfortunately, we are not licensed to display ...</td>\n",
       "      <td>ALL MY LOVEPATTI PAGE</td>\n",
       "    </tr>\n",
       "  </tbody>\n",
       "</table>\n",
       "</div>"
      ],
      "text/plain": [
       "                 artist               title  year    pos    neg  \\\n",
       "0         Nat King Cole           Mona Lisa  1950  0.199  0.155   \n",
       "1       Andrews Sisters    I Wanna Be Loved  1950  0.224  0.036   \n",
       "2            Patti Page     Tennessee Waltz  1950  0.351  0.053   \n",
       "3  Tennessee Ernie Ford  I'll Never Be Free  1950  0.231  0.167   \n",
       "4            Patti Page         All My Love  1950  0.079  0.070   \n",
       "\n",
       "                                              lyrics  \\\n",
       "0  Mona Lisa, Mona Lisa, men have named you\\nYou'...   \n",
       "1  I wanna be Loved\\nBy Andrews Sisters\\n\\nOooo-o...   \n",
       "2  I was dancing with my darling to the Tennessee...   \n",
       "3  Each time I hold someone new\\nMy arms grow col...   \n",
       "4  Unfortunately, we are not licensed to display ...   \n",
       "\n",
       "                                   SongID  \n",
       "0                  MONA LISANAT KING COLE  \n",
       "1         I WANNA BE LOVEDANDREWS SISTERS  \n",
       "2               TENNESSEE WALTZPATTI PAGE  \n",
       "3  I'LL NEVER BE FREETENNESSEE ERNIE FORD  \n",
       "4                   ALL MY LOVEPATTI PAGE  "
      ]
     },
     "execution_count": 22,
     "metadata": {},
     "output_type": "execute_result"
    }
   ],
   "source": [
    "sent_df = pd.read_csv(sentiment_file)\n",
    "\n",
    "\n",
    "sent_df['SongID'] = sent_df['title'].astype('str') + sent_df['artist'].astype('str')\n",
    "sent_df['SongID'] = sent_df['SongID'].map(lambda x: str(x).upper())\n",
    "sent_df.head(5)"
   ]
  },
  {
   "cell_type": "code",
   "execution_count": 6,
   "metadata": {},
   "outputs": [],
   "source": [
    "df = no1_df[(no1_df.WeekID > start_frame) & (no1_df.WeekID < end_frame)].copy()\n",
    "map_id ={'CHECK ON ITBEYONCE FEATURING SLIM THUG':'CHECK ON ITBEYONCE',\n",
    "         'PROMISCUOUSNELLY FURTADO FEATURING TIMBALAND':'PROMISCUOUSNELLY FURTADO',\n",
    "         'SEXYBACKJUSTIN TIMBERLAKE':'SEXYBACKJUSTIN TIMBERLAKE',\n",
    "         'UMBRELLARIHANNA FEATURING JAY-Z':'UMBRELLARIHANNA',\n",
    "         \"RIDIN'CHAMILLIONAIRE FEATURING KRAYZIE BONE\" : \"RIDIN'CHAMILLIONAIRE\",\n",
    "         \"MY LOVEJUSTIN TIMBERLAKE FEATURING T.I.\":\"MY LOVEJUSTIN TIMBERLAKE\",\n",
    "         \"MONEY MAKERLUDACRIS FEATURING PHARRELL\":\"MONEY MAKERLUDACRIS\",\n",
    "         'HOLLABACK GIRLGWEN STEFANI':'HOLLABACK GIRLGWEN STEFANI',\n",
    "         \"I WANNA LOVE YOUAKON FEATURING SNOOP DOGG\":\"I WANNA LOVE YOUAKON\",\n",
    "         \"GLAMOROUSFERGIE FEATURING LUDACRIS\":\"GLAMOROUSFERGIE\",\n",
    "         'WHAT GOES AROUND...COMES AROUNDJUSTIN TIMBERLAKE':\"WHAT GOES AROUND COMES AROUNDJUSTIN TIMBERLAKE\",\n",
    "         \"LOWFLO RIDA FEATURING T-PAIN\":\"LOWFLO RIDA\",\n",
    "         \"DO I MAKE YOU PROUDTAYLOR HICKS\":\"DO I MAKE YOU PROUDTAYLOR HICKS\",\n",
    "         \"GIVE IT TO METIMBALAND FEATURING NELLY FURTADO & JUSTIN TIMBERLAKE\":\"GIVE IT TO METIMBALAND\",\n",
    "         \"CANDY SHOP50 CENT FEATURING OLIVIA\":\"CANDY SHOP50 CENT\",\n",
    "         \"TIMBERPITBULL FEATURING KE$HA\":\"TIMBERPITBULL\",\n",
    "         \"SHAKE IT OFFTAYLOR SWIFT\":\"SHAKE IT OFFTAYLOR SWIFT\",\n",
    "         \"FANCYIGGY AZALEA FEATURING CHARLI XCX\":\"FANCYIGGY AZALEA\",\n",
    "         \"BLURRED LINESROBIN THICKE FEATURING T.I. + PHARRELL\":'BLURRED LINESROBIN THICKE',\n",
    "         \"CAN'T HOLD USMACKLEMORE & RYAN LEWIS FEATURING RAY DALTON\":\"CAN'T HOLD USMACKLEMORE\",\n",
    "         \"THE MONSTEREMINEM FEATURING RIHANNA\":\"THE MONSTEREMINEM\",\n",
    "         \"DARK HORSEKATY PERRY FEATURING JUICY J\" : \"DARK HORSEKATY PERRY\",\n",
    "         \"THRIFT SHOPMACKLEMORE & RYAN LEWIS FEATURING WANZ\" : \"THRIFT SHOPMACKLEMORE\",\n",
    "         \"SOMEBODY THAT I USED TO KNOWGOTYE FEATURING KIMBRA\" : \"SOMEBODY THAT I USED TO KNOWGOTYE\",\n",
    "         \"STRONGER (WHAT DOESN'T KILL YOU)KELLY CLARKSON\" : \"STRONGERKELLY CLARKSON\",\n",
    "         \"WE FOUND LOVERIHANNA FEATURING CALVIN HARRIS\" : \"WE FOUND LOVERIHANNA\",\n",
    "         \"JUST GIVE ME A REASONP!NK FEATURING NATE RUESS\":\"JUST GIVE ME A REASONP!NK\",\n",
    "         \"SINGLE LADIES (PUT A RING ON IT)BEYONCE\":\"SINGLE LADIESBEYONCE\",\n",
    "         \"BOOM BOOM POWTHE BLACK EYED PEAS\":\"BOOM BOOM POWBLACK EYED PEAS\",\n",
    "         \"I GOTTA FEELINGTHE BLACK EYED PEAS\" : \"I GOTTA FEELINGBLACK EYED PEAS\",\n",
    "         \"EMPIRE STATE OF MINDJAY-Z + ALICIA KEYS\" : \"EMPIRE STATE OF MINDJAY-Z\",\n",
    "         \"CALIFORNIA GURLSKATY PERRY FEATURING SNOOP DOGG\" : \"CALIFORNIA GURLSKATY PERRY\",\n",
    "         \"LOVE THE WAY YOU LIEEMINEM FEATURING RIHANNA\" : \"LOVE THE WAY YOU LIEEMINEM\",\n",
    "         \"OMGUSHER FEATURING WILL.I.AM\" : \"OMGUSHER\",\n",
    "         \"PARTY ROCK ANTHEMLMFAO FEATURING LAUREN BENNETT & GOONROCK\" : \"PARTY ROCK ANTHEMLMFAO\",\n",
    "         \"E.T.KATY PERRY FEATURING KANYE WEST\" : \"E.T.KATY PERRY\",\n",
    "         \"LOVE IN THIS CLUBUSHER FEATURING YOUNG JEEZY\":\"LOVE IN THIS CLUBUSHER\"\n",
    "        }\n",
    "\n",
    "for k,v in map_id.items():\n",
    "    df.loc[df['SongID'] == k, 'SongID'] = v\n",
    "\n",
    "df['pos'] = np.NaN\n",
    "df['neg'] = np.NaN"
   ]
  },
  {
   "cell_type": "code",
   "execution_count": 7,
   "metadata": {},
   "outputs": [
    {
     "data": {
      "text/html": [
       "<div>\n",
       "<style scoped>\n",
       "    .dataframe tbody tr th:only-of-type {\n",
       "        vertical-align: middle;\n",
       "    }\n",
       "\n",
       "    .dataframe tbody tr th {\n",
       "        vertical-align: top;\n",
       "    }\n",
       "\n",
       "    .dataframe thead th {\n",
       "        text-align: right;\n",
       "    }\n",
       "</style>\n",
       "<table border=\"1\" class=\"dataframe\">\n",
       "  <thead>\n",
       "    <tr style=\"text-align: right;\">\n",
       "      <th></th>\n",
       "      <th>WeekID</th>\n",
       "      <th>Week Position</th>\n",
       "      <th>Song</th>\n",
       "      <th>Performer</th>\n",
       "      <th>SongID</th>\n",
       "      <th>pos</th>\n",
       "      <th>neg</th>\n",
       "    </tr>\n",
       "  </thead>\n",
       "  <tbody>\n",
       "    <tr>\n",
       "      <td>2423</td>\n",
       "      <td>2005-01-08</td>\n",
       "      <td>1</td>\n",
       "      <td>Let Me Love You</td>\n",
       "      <td>Mario</td>\n",
       "      <td>LET ME LOVE YOUMARIO</td>\n",
       "      <td>NaN</td>\n",
       "      <td>NaN</td>\n",
       "    </tr>\n",
       "    <tr>\n",
       "      <td>2424</td>\n",
       "      <td>2005-01-15</td>\n",
       "      <td>1</td>\n",
       "      <td>Let Me Love You</td>\n",
       "      <td>Mario</td>\n",
       "      <td>LET ME LOVE YOUMARIO</td>\n",
       "      <td>NaN</td>\n",
       "      <td>NaN</td>\n",
       "    </tr>\n",
       "    <tr>\n",
       "      <td>2425</td>\n",
       "      <td>2005-01-22</td>\n",
       "      <td>1</td>\n",
       "      <td>Let Me Love You</td>\n",
       "      <td>Mario</td>\n",
       "      <td>LET ME LOVE YOUMARIO</td>\n",
       "      <td>NaN</td>\n",
       "      <td>NaN</td>\n",
       "    </tr>\n",
       "    <tr>\n",
       "      <td>2426</td>\n",
       "      <td>2005-01-29</td>\n",
       "      <td>1</td>\n",
       "      <td>Let Me Love You</td>\n",
       "      <td>Mario</td>\n",
       "      <td>LET ME LOVE YOUMARIO</td>\n",
       "      <td>NaN</td>\n",
       "      <td>NaN</td>\n",
       "    </tr>\n",
       "    <tr>\n",
       "      <td>2427</td>\n",
       "      <td>2005-02-05</td>\n",
       "      <td>1</td>\n",
       "      <td>Let Me Love You</td>\n",
       "      <td>Mario</td>\n",
       "      <td>LET ME LOVE YOUMARIO</td>\n",
       "      <td>NaN</td>\n",
       "      <td>NaN</td>\n",
       "    </tr>\n",
       "    <tr>\n",
       "      <td>...</td>\n",
       "      <td>...</td>\n",
       "      <td>...</td>\n",
       "      <td>...</td>\n",
       "      <td>...</td>\n",
       "      <td>...</td>\n",
       "      <td>...</td>\n",
       "      <td>...</td>\n",
       "    </tr>\n",
       "    <tr>\n",
       "      <td>2922</td>\n",
       "      <td>2014-08-02</td>\n",
       "      <td>1</td>\n",
       "      <td>Rude</td>\n",
       "      <td>MAGIC!</td>\n",
       "      <td>RUDEMAGIC!</td>\n",
       "      <td>NaN</td>\n",
       "      <td>NaN</td>\n",
       "    </tr>\n",
       "    <tr>\n",
       "      <td>2923</td>\n",
       "      <td>2014-08-09</td>\n",
       "      <td>1</td>\n",
       "      <td>Rude</td>\n",
       "      <td>MAGIC!</td>\n",
       "      <td>RUDEMAGIC!</td>\n",
       "      <td>NaN</td>\n",
       "      <td>NaN</td>\n",
       "    </tr>\n",
       "    <tr>\n",
       "      <td>2924</td>\n",
       "      <td>2014-08-16</td>\n",
       "      <td>1</td>\n",
       "      <td>Rude</td>\n",
       "      <td>MAGIC!</td>\n",
       "      <td>RUDEMAGIC!</td>\n",
       "      <td>NaN</td>\n",
       "      <td>NaN</td>\n",
       "    </tr>\n",
       "    <tr>\n",
       "      <td>2925</td>\n",
       "      <td>2014-08-23</td>\n",
       "      <td>1</td>\n",
       "      <td>Rude</td>\n",
       "      <td>MAGIC!</td>\n",
       "      <td>RUDEMAGIC!</td>\n",
       "      <td>NaN</td>\n",
       "      <td>NaN</td>\n",
       "    </tr>\n",
       "    <tr>\n",
       "      <td>2926</td>\n",
       "      <td>2014-08-30</td>\n",
       "      <td>1</td>\n",
       "      <td>Rude</td>\n",
       "      <td>MAGIC!</td>\n",
       "      <td>RUDEMAGIC!</td>\n",
       "      <td>NaN</td>\n",
       "      <td>NaN</td>\n",
       "    </tr>\n",
       "  </tbody>\n",
       "</table>\n",
       "<p>102 rows × 7 columns</p>\n",
       "</div>"
      ],
      "text/plain": [
       "          WeekID  Week Position             Song Performer  \\\n",
       "2423  2005-01-08              1  Let Me Love You     Mario   \n",
       "2424  2005-01-15              1  Let Me Love You     Mario   \n",
       "2425  2005-01-22              1  Let Me Love You     Mario   \n",
       "2426  2005-01-29              1  Let Me Love You     Mario   \n",
       "2427  2005-02-05              1  Let Me Love You     Mario   \n",
       "...          ...            ...              ...       ...   \n",
       "2922  2014-08-02              1             Rude    MAGIC!   \n",
       "2923  2014-08-09              1             Rude    MAGIC!   \n",
       "2924  2014-08-16              1             Rude    MAGIC!   \n",
       "2925  2014-08-23              1             Rude    MAGIC!   \n",
       "2926  2014-08-30              1             Rude    MAGIC!   \n",
       "\n",
       "                    SongID  pos  neg  \n",
       "2423  LET ME LOVE YOUMARIO  NaN  NaN  \n",
       "2424  LET ME LOVE YOUMARIO  NaN  NaN  \n",
       "2425  LET ME LOVE YOUMARIO  NaN  NaN  \n",
       "2426  LET ME LOVE YOUMARIO  NaN  NaN  \n",
       "2427  LET ME LOVE YOUMARIO  NaN  NaN  \n",
       "...                    ...  ...  ...  \n",
       "2922            RUDEMAGIC!  NaN  NaN  \n",
       "2923            RUDEMAGIC!  NaN  NaN  \n",
       "2924            RUDEMAGIC!  NaN  NaN  \n",
       "2925            RUDEMAGIC!  NaN  NaN  \n",
       "2926            RUDEMAGIC!  NaN  NaN  \n",
       "\n",
       "[102 rows x 7 columns]"
      ]
     },
     "execution_count": 7,
     "metadata": {},
     "output_type": "execute_result"
    }
   ],
   "source": [
    "for index, row in df.iterrows():\n",
    "    if (sent_df[sent_df.SongID == row.SongID]['pos'].values).size > 0:\n",
    "\n",
    "        try:\n",
    "            df.loc[index, 'pos'] = sent_df[sent_df.SongID == row.SongID]['pos'].values\n",
    "            df.loc[index, 'neg'] = sent_df[sent_df.SongID == row.SongID]['neg'].values\n",
    "        except:\n",
    "\n",
    "            df.loc[index, 'pos'] = (sent_df[sent_df.SongID == row.SongID]['pos'].values)[0]\n",
    "            df.loc[index, 'neg'] = (sent_df[sent_df.SongID == row.SongID]['neg'].values)[0]\n",
    "df[df.pos.isnull()]"
   ]
  },
  {
   "cell_type": "code",
   "execution_count": 8,
   "metadata": {},
   "outputs": [
    {
     "data": {
      "text/plain": [
       "0.19577735124760076"
      ]
     },
     "execution_count": 8,
     "metadata": {},
     "output_type": "execute_result"
    }
   ],
   "source": [
    "df[df['pos'].isnull()]['WeekID'].count() / df['WeekID'].count()"
   ]
  },
  {
   "cell_type": "code",
   "execution_count": 9,
   "metadata": {},
   "outputs": [
    {
     "data": {
      "text/plain": [
       "array(['LOVE IN THIS CLUBUSHER FEATURING YOUNG JEEZY',\n",
       "       'LOVE IN THIS CLUBUSHER FEATURING YOUNG JEEZY',\n",
       "       'LOVE IN THIS CLUBUSHER FEATURING YOUNG JEEZY'], dtype=object)"
      ]
     },
     "execution_count": 9,
     "metadata": {},
     "output_type": "execute_result"
    }
   ],
   "source": [
    "sent_df[sent_df['SongID'].str.contains('CLUBUSHER')]['SongID']\n",
    "no1_df[no1_df['SongID'].str.contains('CLUBUSHER')]['SongID'].values"
   ]
  },
  {
   "cell_type": "code",
   "execution_count": 10,
   "metadata": {},
   "outputs": [
    {
     "data": {
      "text/html": [
       "<div>\n",
       "<style scoped>\n",
       "    .dataframe tbody tr th:only-of-type {\n",
       "        vertical-align: middle;\n",
       "    }\n",
       "\n",
       "    .dataframe tbody tr th {\n",
       "        vertical-align: top;\n",
       "    }\n",
       "\n",
       "    .dataframe thead th {\n",
       "        text-align: right;\n",
       "    }\n",
       "</style>\n",
       "<table border=\"1\" class=\"dataframe\">\n",
       "  <thead>\n",
       "    <tr style=\"text-align: right;\">\n",
       "      <th></th>\n",
       "      <th>WeekID</th>\n",
       "      <th>Week Position</th>\n",
       "      <th>Song</th>\n",
       "      <th>Performer</th>\n",
       "      <th>SongID</th>\n",
       "      <th>pos</th>\n",
       "      <th>neg</th>\n",
       "    </tr>\n",
       "  </thead>\n",
       "  <tbody>\n",
       "  </tbody>\n",
       "</table>\n",
       "</div>"
      ],
      "text/plain": [
       "Empty DataFrame\n",
       "Columns: [WeekID, Week Position, Song, Performer, SongID, pos, neg]\n",
       "Index: []"
      ]
     },
     "execution_count": 10,
     "metadata": {},
     "output_type": "execute_result"
    }
   ],
   "source": [
    "filled_df = df.fillna(method='bfill').copy()\n",
    "filled_df[filled_df['pos'].isnull()]"
   ]
  },
  {
   "cell_type": "code",
   "execution_count": 13,
   "metadata": {},
   "outputs": [],
   "source": [
    "weekly_sent = filled_df[['WeekID','pos','neg']].copy()\n",
    "\n",
    "weekly_sent['net_sent'] = weekly_sent['pos'] - weekly_sent['neg']\n",
    "\n",
    "weekly_sent['net_sent'] = weekly_sent['net_sent']- weekly_sent['net_sent'].mean()"
   ]
  },
  {
   "cell_type": "code",
   "execution_count": 16,
   "metadata": {},
   "outputs": [
    {
     "data": {
      "text/plain": [
       "6.8190281742811916e-18"
      ]
     },
     "execution_count": 16,
     "metadata": {},
     "output_type": "execute_result"
    }
   ],
   "source": [
    "weekly_sent['net_sent'].mean()"
   ]
  },
  {
   "cell_type": "code",
   "execution_count": 20,
   "metadata": {},
   "outputs": [
    {
     "data": {
      "text/plain": [
       "<matplotlib.axes._subplots.AxesSubplot at 0x1c397a18f08>"
      ]
     },
     "execution_count": 20,
     "metadata": {},
     "output_type": "execute_result"
    },
    {
     "data": {
      "image/png": "[encoded data removed]",
      "text/plain": [
       "<Figure size 432x288 with 1 Axes>"
      ]
     },
     "metadata": {
      "needs_background": "light"
     },
     "output_type": "display_data"
    }
   ],
   "source": [
    "weekly_sent['net_sent'].hist(bins =25)"
   ]
  },
  {
   "cell_type": "code",
   "execution_count": 15,
   "metadata": {},
   "outputs": [],
   "source": [
    "weekly_sent.to_csv(index=False, path_or_buf = 'weekly_sentiment.csv')"
   ]
  }
 ],
 "metadata": {
  "kernelspec": {
   "display_name": "Python 3",
   "language": "python",
   "name": "python3"
  },
  "language_info": {
   "codemirror_mode": {
    "name": "ipython",
    "version": 3
   },
   "file_extension": ".py",
   "mimetype": "text/x-python",
   "name": "python",
   "nbconvert_exporter": "python",
   "pygments_lexer": "ipython3",
   "version": "3.7.4"
  }
 },
 "nbformat": 4,
 "nbformat_minor": 2
}
