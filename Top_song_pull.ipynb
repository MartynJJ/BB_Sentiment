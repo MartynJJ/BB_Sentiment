{
 "cells": [
  {
   "cell_type": "code",
   "execution_count": 5,
   "metadata": {},
   "outputs": [],
   "source": [
    "import json\n",
    "import pandas as pd\n",
    "import numpy as np\n",
    "from tqdm import tqdm_notebook as tqdm\n",
    "from tqdm import trange\n",
    "import os\n",
    "import datetime\n",
    "import time"
   ]
  },
  {
   "cell_type": "code",
   "execution_count": 26,
   "metadata": {},
   "outputs": [
    {
     "data": {
      "text/plain": [
       "Index(['´╗┐url', 'WeekID', 'Week Position', 'Song', 'Performer', 'SongID',\n",
       "       'Instance', 'Previous Week Position', 'Peak Position',\n",
       "       'Weeks on Chart'],\n",
       "      dtype='object')"
      ]
     },
     "execution_count": 26,
     "metadata": {},
     "output_type": "execute_result"
    }
   ],
   "source": [
    "file = 'Hot Stuff.csv'\n",
    "filedir = 'data/'\n",
    "path = filedir + file\n",
    "with open(path, 'r', encoding='cp850', errors = 'ignore') as f:\n",
    "        df = pd.read_csv(f)\n",
    "df.columns"
   ]
  },
  {
   "cell_type": "code",
   "execution_count": 27,
   "metadata": {},
   "outputs": [],
   "source": [
    "df.drop(['´╗┐url','Previous Week Position','Peak Position', 'Weeks on Chart','Instance'], axis = 1, inplace = True)"
   ]
  },
  {
   "cell_type": "code",
   "execution_count": 65,
   "metadata": {},
   "outputs": [],
   "source": [
    "no1s_df = df[df['Week Position'] == 1].copy()\n",
    "no1s_df.columns=no1s_df.columns.str.strip()\n",
    "no1s_df.columns\n",
    "no1s_df.WeekID = pd.to_datetime(no1s_df.WeekID)"
   ]
  },
  {
   "cell_type": "code",
   "execution_count": 71,
   "metadata": {},
   "outputs": [
    {
     "data": {
      "text/html": [
       "<div>\n",
       "<style scoped>\n",
       "    .dataframe tbody tr th:only-of-type {\n",
       "        vertical-align: middle;\n",
       "    }\n",
       "\n",
       "    .dataframe tbody tr th {\n",
       "        vertical-align: top;\n",
       "    }\n",
       "\n",
       "    .dataframe thead th {\n",
       "        text-align: right;\n",
       "    }\n",
       "</style>\n",
       "<table border=\"1\" class=\"dataframe\">\n",
       "  <thead>\n",
       "    <tr style=\"text-align: right;\">\n",
       "      <th></th>\n",
       "      <th>WeekID</th>\n",
       "      <th>Week Position</th>\n",
       "      <th>Song</th>\n",
       "      <th>Performer</th>\n",
       "      <th>SongID</th>\n",
       "    </tr>\n",
       "  </thead>\n",
       "  <tbody>\n",
       "    <tr>\n",
       "      <td>464</td>\n",
       "      <td>1958-08-02</td>\n",
       "      <td>1</td>\n",
       "      <td>Poor Little Fool</td>\n",
       "      <td>Ricky Nelson</td>\n",
       "      <td>Poor Little FoolRicky Nelson</td>\n",
       "    </tr>\n",
       "    <tr>\n",
       "      <td>119198</td>\n",
       "      <td>1958-08-09</td>\n",
       "      <td>1</td>\n",
       "      <td>Poor Little Fool</td>\n",
       "      <td>Ricky Nelson</td>\n",
       "      <td>Poor Little FoolRicky Nelson</td>\n",
       "    </tr>\n",
       "    <tr>\n",
       "      <td>27513</td>\n",
       "      <td>1958-08-16</td>\n",
       "      <td>1</td>\n",
       "      <td>Nel Blu Dipinto Di Blu (Volar├®)</td>\n",
       "      <td>Domenico Modugno</td>\n",
       "      <td>Nel Blu Dipinto Di Blu (Volar├®)Domenico Modugno</td>\n",
       "    </tr>\n",
       "    <tr>\n",
       "      <td>79105</td>\n",
       "      <td>1958-08-23</td>\n",
       "      <td>1</td>\n",
       "      <td>Little Star</td>\n",
       "      <td>The Elegants</td>\n",
       "      <td>Little StarThe Elegants</td>\n",
       "    </tr>\n",
       "    <tr>\n",
       "      <td>7092</td>\n",
       "      <td>1958-08-30</td>\n",
       "      <td>1</td>\n",
       "      <td>Nel Blu Dipinto Di Blu (Volar├®)</td>\n",
       "      <td>Domenico Modugno</td>\n",
       "      <td>Nel Blu Dipinto Di Blu (Volar├®)Domenico Modugno</td>\n",
       "    </tr>\n",
       "    <tr>\n",
       "      <td>...</td>\n",
       "      <td>...</td>\n",
       "      <td>...</td>\n",
       "      <td>...</td>\n",
       "      <td>...</td>\n",
       "      <td>...</td>\n",
       "    </tr>\n",
       "    <tr>\n",
       "      <td>22674</td>\n",
       "      <td>2019-05-25</td>\n",
       "      <td>1</td>\n",
       "      <td>Old Town Road</td>\n",
       "      <td>Lil Nas X Featuring Billy Ray Cyrus</td>\n",
       "      <td>Old Town RoadLil Nas X Featuring Billy Ray Cyrus</td>\n",
       "    </tr>\n",
       "    <tr>\n",
       "      <td>45997</td>\n",
       "      <td>2019-06-01</td>\n",
       "      <td>1</td>\n",
       "      <td>Old Town Road</td>\n",
       "      <td>Lil Nas X Featuring Billy Ray Cyrus</td>\n",
       "      <td>Old Town RoadLil Nas X Featuring Billy Ray Cyrus</td>\n",
       "    </tr>\n",
       "    <tr>\n",
       "      <td>89548</td>\n",
       "      <td>2019-06-08</td>\n",
       "      <td>1</td>\n",
       "      <td>Old Town Road</td>\n",
       "      <td>Lil Nas X Featuring Billy Ray Cyrus</td>\n",
       "      <td>Old Town RoadLil Nas X Featuring Billy Ray Cyrus</td>\n",
       "    </tr>\n",
       "    <tr>\n",
       "      <td>93671</td>\n",
       "      <td>2019-06-15</td>\n",
       "      <td>1</td>\n",
       "      <td>Old Town Road</td>\n",
       "      <td>Lil Nas X Featuring Billy Ray Cyrus</td>\n",
       "      <td>Old Town RoadLil Nas X Featuring Billy Ray Cyrus</td>\n",
       "    </tr>\n",
       "    <tr>\n",
       "      <td>97370</td>\n",
       "      <td>2019-06-22</td>\n",
       "      <td>1</td>\n",
       "      <td>Old Town Road</td>\n",
       "      <td>Lil Nas X Featuring Billy Ray Cyrus</td>\n",
       "      <td>Old Town RoadLil Nas X Featuring Billy Ray Cyrus</td>\n",
       "    </tr>\n",
       "  </tbody>\n",
       "</table>\n",
       "<p>3178 rows × 5 columns</p>\n",
       "</div>"
      ],
      "text/plain": [
       "           WeekID  Week Position                              Song  \\\n",
       "464    1958-08-02              1                  Poor Little Fool   \n",
       "119198 1958-08-09              1                  Poor Little Fool   \n",
       "27513  1958-08-16              1  Nel Blu Dipinto Di Blu (Volar├®)   \n",
       "79105  1958-08-23              1                       Little Star   \n",
       "7092   1958-08-30              1  Nel Blu Dipinto Di Blu (Volar├®)   \n",
       "...           ...            ...                               ...   \n",
       "22674  2019-05-25              1                     Old Town Road   \n",
       "45997  2019-06-01              1                     Old Town Road   \n",
       "89548  2019-06-08              1                     Old Town Road   \n",
       "93671  2019-06-15              1                     Old Town Road   \n",
       "97370  2019-06-22              1                     Old Town Road   \n",
       "\n",
       "                                  Performer  \\\n",
       "464                            Ricky Nelson   \n",
       "119198                         Ricky Nelson   \n",
       "27513                      Domenico Modugno   \n",
       "79105                          The Elegants   \n",
       "7092                       Domenico Modugno   \n",
       "...                                     ...   \n",
       "22674   Lil Nas X Featuring Billy Ray Cyrus   \n",
       "45997   Lil Nas X Featuring Billy Ray Cyrus   \n",
       "89548   Lil Nas X Featuring Billy Ray Cyrus   \n",
       "93671   Lil Nas X Featuring Billy Ray Cyrus   \n",
       "97370   Lil Nas X Featuring Billy Ray Cyrus   \n",
       "\n",
       "                                                  SongID  \n",
       "464                         Poor Little FoolRicky Nelson  \n",
       "119198                      Poor Little FoolRicky Nelson  \n",
       "27513   Nel Blu Dipinto Di Blu (Volar├®)Domenico Modugno  \n",
       "79105                            Little StarThe Elegants  \n",
       "7092    Nel Blu Dipinto Di Blu (Volar├®)Domenico Modugno  \n",
       "...                                                  ...  \n",
       "22674   Old Town RoadLil Nas X Featuring Billy Ray Cyrus  \n",
       "45997   Old Town RoadLil Nas X Featuring Billy Ray Cyrus  \n",
       "89548   Old Town RoadLil Nas X Featuring Billy Ray Cyrus  \n",
       "93671   Old Town RoadLil Nas X Featuring Billy Ray Cyrus  \n",
       "97370   Old Town RoadLil Nas X Featuring Billy Ray Cyrus  \n",
       "\n",
       "[3178 rows x 5 columns]"
      ]
     },
     "execution_count": 71,
     "metadata": {},
     "output_type": "execute_result"
    }
   ],
   "source": [
    "no1s_df.sort_values(by='WeekID',axis = 0, inplace=True)\n",
    "no1s_df"
   ]
  },
  {
   "cell_type": "code",
   "execution_count": 72,
   "metadata": {},
   "outputs": [],
   "source": [
    "no1s_df.to_csv(index=False, path_or_buf = 'weekly_no1s.csv')"
   ]
  }
 ],
 "metadata": {
  "kernelspec": {
   "display_name": "Python 3",
   "language": "python",
   "name": "python3"
  },
  "language_info": {
   "codemirror_mode": {
    "name": "ipython",
    "version": 3
   },
   "file_extension": ".py",
   "mimetype": "text/x-python",
   "name": "python",
   "nbconvert_exporter": "python",
   "pygments_lexer": "ipython3",
   "version": "3.7.4"
  }
 },
 "nbformat": 4,
 "nbformat_minor": 2
}
